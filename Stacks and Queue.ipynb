{
 "cells": [
  {
   "cell_type": "code",
   "execution_count": 1,
   "id": "0dcb7db0",
   "metadata": {},
   "outputs": [],
   "source": [
    "class Stack:\n",
    "    \n",
    "    def __init__(self):\n",
    "        self.stack = []\n",
    "    \n",
    "    def push(self, data):\n",
    "        self.stack.append(data)\n",
    "        \n",
    "    def peek(self):\n",
    "        if self.stack:\n",
    "            return self.stack[-1]\n",
    "        return -1\n",
    "    \n",
    "    def pop(self):\n",
    "        if self.stack:\n",
    "            data = self.stack[-1]\n",
    "            del self.stack[-1]\n",
    "            return data\n",
    "        return -1\n",
    "    \n",
    "    def print_s(self):\n",
    "        print(self.stack)\n",
    "        \n",
    "    def size_stack(self):\n",
    "        return len(self.stack)"
   ]
  },
  {
   "cell_type": "code",
   "execution_count": 12,
   "id": "c98d0c84",
   "metadata": {},
   "outputs": [],
   "source": [
    "s = Stack()"
   ]
  },
  {
   "cell_type": "code",
   "execution_count": 13,
   "id": "f7be58e9",
   "metadata": {},
   "outputs": [
    {
     "name": "stdout",
     "output_type": "stream",
     "text": [
      "[1, 10, 4, 11, 21, 12]\n",
      "12\n",
      "12\n",
      "21\n",
      "[1, 10, 4, 11, 21]\n",
      "21\n",
      "11\n",
      "4\n",
      "10\n",
      "[1]\n",
      "1\n",
      "-1\n",
      "[]\n"
     ]
    }
   ],
   "source": [
    "s.push(1)\n",
    "s.push(10)\n",
    "s.push(4)\n",
    "s.push(11)\n",
    "s.push(21)\n",
    "s.push(12)\n",
    "s.print_s()\n",
    "print(s.peek())\n",
    "print(s.pop())\n",
    "print(s.peek())\n",
    "s.print_s()\n",
    "print(s.pop())\n",
    "print(s.pop())\n",
    "print(s.pop())\n",
    "print(s.pop())\n",
    "s.print_s()\n",
    "print(s.pop())\n",
    "print(s.pop())\n",
    "s.print_s()"
   ]
  },
  {
   "cell_type": "code",
   "execution_count": 15,
   "id": "900fae4c",
   "metadata": {},
   "outputs": [],
   "source": [
    "class Queue:\n",
    "    def __init__(self):\n",
    "        self.queue = []\n",
    "    \n",
    "    def enqueue(self, data):\n",
    "        self.queue.append(data)\n",
    "    # o(N) better to use doubly linked list\n",
    "    def dequeue(self):\n",
    "        if self.queue:\n",
    "            data = self.queue[0]\n",
    "            del self.queue[0]\n",
    "            return data\n",
    "        return -1\n",
    "    \n",
    "    def peek(self):\n",
    "        if self.queue:\n",
    "            return self.queue[0]\n",
    "    def print_q(self):\n",
    "        print(self.queue)\n",
    "    def size_q(self):\n",
    "        return len(self.queue)"
   ]
  },
  {
   "cell_type": "code",
   "execution_count": 17,
   "id": "1690d052",
   "metadata": {},
   "outputs": [
    {
     "name": "stdout",
     "output_type": "stream",
     "text": [
      "[13, 43, 4, 11]\n",
      "13\n",
      "13\n",
      "[43, 4, 11]\n",
      "43\n",
      "4\n",
      "11\n",
      "-1\n",
      "-1\n",
      "[]\n"
     ]
    }
   ],
   "source": [
    "q = Queue()\n",
    "q.enqueue(13)\n",
    "q.enqueue(43)\n",
    "q.enqueue(4)\n",
    "q.enqueue(11)\n",
    "q.print_q()\n",
    "print(q.peek())\n",
    "print(q.dequeue())\n",
    "q.print_q()\n",
    "print(q.dequeue())\n",
    "print(q.dequeue())\n",
    "print(q.dequeue())\n",
    "print(q.dequeue())\n",
    "print(q.dequeue())\n",
    "q.print_q()\n"
   ]
  },
  {
   "cell_type": "markdown",
   "id": "65bd9856",
   "metadata": {},
   "source": [
    "### Max in Stack"
   ]
  },
  {
   "cell_type": "code",
   "execution_count": 26,
   "id": "452aaf14",
   "metadata": {},
   "outputs": [],
   "source": [
    "class MaxStack:\n",
    "    def __init__(self):\n",
    "        self.stack = []\n",
    "        self.stack2 = []\n",
    "    \n",
    "    def push(self, data):\n",
    "        if not (self.stack and self.stack2):\n",
    "            self.stack.append(data)\n",
    "            self.stack2.append(data)\n",
    "        else:\n",
    "            self.stack.append(data)\n",
    "            if data>self.stack2[-1]:\n",
    "                self.stack2.append(data)\n",
    "            else:\n",
    "                self.stack2.append(self.stack2[-1])\n",
    "    \n",
    "    def peek(self):\n",
    "        if self.stack:\n",
    "            return self.stack[-1]\n",
    "        return -1\n",
    "    \n",
    "    def pop(self):\n",
    "        if self.stack:\n",
    "            data = self.stack[-1]\n",
    "            del self.stack[-1]\n",
    "            del self.stack2[-1]\n",
    "            return data\n",
    "        return -1\n",
    "    \n",
    "    def max_inStack(self):\n",
    "        return self.stack2[-1]"
   ]
  },
  {
   "cell_type": "code",
   "execution_count": 30,
   "id": "1518d58b",
   "metadata": {},
   "outputs": [
    {
     "name": "stdout",
     "output_type": "stream",
     "text": [
      "78\n",
      "322\n",
      "78\n",
      "322\n",
      "322\n",
      "65\n"
     ]
    }
   ],
   "source": [
    "ss = MaxStack()\n",
    "ss.push(65)\n",
    "ss.push(2)\n",
    "ss.push(322)\n",
    "ss.push(78)\n",
    "print(ss.peek())\n",
    "print(ss.max_inStack())\n",
    "print(ss.pop())\n",
    "print(ss.max_inStack())\n",
    "print(ss.pop())\n",
    "print(ss.max_inStack())"
   ]
  },
  {
   "cell_type": "markdown",
   "id": "427791cb",
   "metadata": {},
   "source": [
    "### Queue with 2 Stack "
   ]
  },
  {
   "cell_type": "code",
   "execution_count": 51,
   "id": "797b183d",
   "metadata": {},
   "outputs": [],
   "source": [
    "class queue_s2:\n",
    "    \n",
    "    def __init__(self):\n",
    "        self.s1 = []\n",
    "        self.s2 = []\n",
    "    \n",
    "    def enqueue(self, data):\n",
    "        self.s1.append(data)\n",
    "    \n",
    "    def dequeue(self):\n",
    "        if len(self.s1)==0 and len(self.s2)==0:\n",
    "            print(\"Queue emmpty\")\n",
    "            return\n",
    "#         print(self.s2)\n",
    "        if not self.s2:\n",
    "            while self.s1:\n",
    "                self.s2.append(self.s1.pop())\n",
    "#                 \n",
    "        return self.s2.pop()\n",
    "    \n",
    "    def print_qq(self):\n",
    "        print(self.s1)\n",
    "    "
   ]
  },
  {
   "cell_type": "code",
   "execution_count": 54,
   "id": "b9f1e8f8",
   "metadata": {},
   "outputs": [
    {
     "name": "stdout",
     "output_type": "stream",
     "text": [
      "[13, 17, 1, 5]\n",
      "13\n",
      "17\n",
      "1\n",
      "5\n",
      "Queue emmpty\n",
      "None\n",
      "7\n",
      "19\n"
     ]
    }
   ],
   "source": [
    "qs = queue_s2()\n",
    "qs.enqueue(13)\n",
    "qs.enqueue(17)\n",
    "qs.enqueue(1)\n",
    "qs.enqueue(5)\n",
    "qs.print_qq()\n",
    "print(qs.dequeue())\n",
    "# qs.print_qq()\n",
    "print(qs.dequeue())\n",
    "# qs.print_qq()\n",
    "print(qs.dequeue())\n",
    "print(qs.dequeue())\n",
    "print(qs.dequeue())\n",
    "qs.enqueue(7)\n",
    "qs.enqueue(19)\n",
    "qs.enqueue(45)\n",
    "# qs.print_qq()\n",
    "print(qs.dequeue())\n",
    "print(qs.dequeue())"
   ]
  },
  {
   "cell_type": "markdown",
   "id": "5c269b0c",
   "metadata": {},
   "source": [
    "### Queue with Recurssive Stack and Stack Frame"
   ]
  },
  {
   "cell_type": "code",
   "execution_count": 59,
   "id": "e321cb91",
   "metadata": {},
   "outputs": [],
   "source": [
    "class Queue_rec:\n",
    "    def __init__(self):\n",
    "        self.s = []\n",
    "    def enqueue(self, data):\n",
    "        self.s.append(data)\n",
    "    def dequeue(self):\n",
    "        # base case\n",
    "        if not self.s:\n",
    "            return -1\n",
    "        if len(self.s)==1:\n",
    "            return self.s.pop()\n",
    "        item = self.s.pop()\n",
    "        dequ_item = self.dequeue()\n",
    "        self.s.append(item)\n",
    "        return dequ_item\n",
    "        \n",
    "        \n",
    "        "
   ]
  },
  {
   "cell_type": "code",
   "execution_count": 60,
   "id": "d52af0e6",
   "metadata": {},
   "outputs": [
    {
     "name": "stdout",
     "output_type": "stream",
     "text": [
      "13\n",
      "17\n",
      "1\n",
      "5\n",
      "-1\n",
      "7\n",
      "19\n"
     ]
    }
   ],
   "source": [
    "qs = Queue_rec()\n",
    "qs.enqueue(13)\n",
    "qs.enqueue(17)\n",
    "qs.enqueue(1)\n",
    "qs.enqueue(5)\n",
    "print(qs.dequeue())\n",
    "# qs.print_qq()\n",
    "print(qs.dequeue())\n",
    "# qs.print_qq()\n",
    "print(qs.dequeue())\n",
    "print(qs.dequeue())\n",
    "print(qs.dequeue())\n",
    "qs.enqueue(7)\n",
    "qs.enqueue(19)\n",
    "qs.enqueue(45)\n",
    "# qs.print_qq()\n",
    "print(qs.dequeue())\n",
    "print(qs.dequeue())"
   ]
  },
  {
   "cell_type": "code",
   "execution_count": null,
   "id": "7a0f42ca",
   "metadata": {},
   "outputs": [],
   "source": []
  }
 ],
 "metadata": {
  "kernelspec": {
   "display_name": "Python 3",
   "language": "python",
   "name": "python3"
  },
  "language_info": {
   "codemirror_mode": {
    "name": "ipython",
    "version": 3
   },
   "file_extension": ".py",
   "mimetype": "text/x-python",
   "name": "python",
   "nbconvert_exporter": "python",
   "pygments_lexer": "ipython3",
   "version": "3.8.8"
  }
 },
 "nbformat": 4,
 "nbformat_minor": 5
}
