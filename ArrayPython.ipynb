{
 "cells": [
  {
   "cell_type": "markdown",
   "id": "9fc10f70",
   "metadata": {},
   "source": [
    " Memory and Running Time Trade OFF\n",
    " "
   ]
  },
  {
   "cell_type": "markdown",
   "id": "62633236",
   "metadata": {},
   "source": [
    "- Inserting or removing item at the end of array(with remaining space) is of O(1)\n",
    "- Inserting item at end with full array is O(n) as we need to copy the whole array to new space\n",
    "- Inserting element at between is of O(n) as we need to shift remaining element \n",
    "- Removing element from between is of O(n) as we need to perform a search of O(n) and then shift back elements O(n)"
   ]
  },
  {
   "cell_type": "markdown",
   "id": "34372756",
   "metadata": {},
   "source": [
    "Arrays in Python\n",
    "- List in python are storing references to the elements. Every reference is 8 bytes/pointers which are stored in List. C++ needs 4 bytes\n",
    "- Numpy is actual array. They store elements in a continuous block in memory."
   ]
  },
  {
   "cell_type": "markdown",
   "id": "1088b129",
   "metadata": {},
   "source": [
    "### Reversing an array in-place"
   ]
  },
  {
   "cell_type": "markdown",
   "id": "48565d28",
   "metadata": {},
   "source": [
    "- Using 2 pointers. iterate from first element and end element and keep swapping until stat idx< end idx"
   ]
  },
  {
   "cell_type": "code",
   "execution_count": 3,
   "id": "e3d30fde",
   "metadata": {},
   "outputs": [],
   "source": [
    "def reverse_array(arr):\n",
    "    st_idx = 0 \n",
    "    en_idx = len(arr)-1\n",
    "    while en_idx > st_idx:\n",
    "        arr[st_idx], arr[en_idx] = arr[en_idx], arr[st_idx]\n",
    "        st_idx+=1\n",
    "        en_idx-=1"
   ]
  },
  {
   "cell_type": "code",
   "execution_count": 5,
   "id": "b53dec95",
   "metadata": {},
   "outputs": [
    {
     "name": "stdout",
     "output_type": "stream",
     "text": [
      "[-1, 543, 32, 45, 78, 5, 1]\n"
     ]
    }
   ],
   "source": [
    "arr = [1,5,78,45,32,543,-1] \n",
    "reverse_array(arr)\n",
    "print(arr)"
   ]
  },
  {
   "cell_type": "markdown",
   "id": "235d93c9",
   "metadata": {},
   "source": [
    "### Palindrome Problem"
   ]
  },
  {
   "cell_type": "code",
   "execution_count": 13,
   "id": "48762f32",
   "metadata": {},
   "outputs": [],
   "source": [
    "def is_palindrome_p(s):\n",
    "    if s==s[::-1]:\n",
    "        return True\n",
    "    return False\n",
    "\n",
    "def check_palindrome(s):\n",
    "    s_idx = 0 \n",
    "    e_idx = len(s)-1\n",
    "    while e_idx>s_idx:\n",
    "        if s[s_idx]!=s[e_idx]:\n",
    "            print(\"Not a palindrome\")\n",
    "            return False\n",
    "        s_idx += 1\n",
    "        e_idx -= 1\n",
    "    print(\"It is palindrome\")\n",
    "    return True"
   ]
  },
  {
   "cell_type": "code",
   "execution_count": 14,
   "id": "2dfba572",
   "metadata": {},
   "outputs": [
    {
     "name": "stdout",
     "output_type": "stream",
     "text": [
      "It is palindrome\n"
     ]
    },
    {
     "data": {
      "text/plain": [
       "True"
      ]
     },
     "execution_count": 14,
     "metadata": {},
     "output_type": "execute_result"
    }
   ],
   "source": [
    "check_palindrome('madam')"
   ]
  },
  {
   "cell_type": "code",
   "execution_count": 12,
   "id": "7ac27a21",
   "metadata": {},
   "outputs": [
    {
     "data": {
      "text/plain": [
       "True"
      ]
     },
     "execution_count": 12,
     "metadata": {},
     "output_type": "execute_result"
    }
   ],
   "source": [
    "is_palindrome_p('{}}{')"
   ]
  },
  {
   "cell_type": "markdown",
   "id": "c2ebd315",
   "metadata": {},
   "source": [
    "### Reverse Integer"
   ]
  },
  {
   "cell_type": "code",
   "execution_count": 15,
   "id": "a08d07bd",
   "metadata": {},
   "outputs": [],
   "source": [
    "def reverse_int(num):\n",
    "    rev = 0 \n",
    "    while num>0:\n",
    "        rem = num%10\n",
    "        rev = rev*10+rem\n",
    "        num = num//10\n",
    "    return rev"
   ]
  },
  {
   "cell_type": "code",
   "execution_count": 16,
   "id": "6b496ca4",
   "metadata": {},
   "outputs": [
    {
     "data": {
      "text/plain": [
       "7987654"
      ]
     },
     "execution_count": 16,
     "metadata": {},
     "output_type": "execute_result"
    }
   ],
   "source": [
    "reverse_int(4567897)"
   ]
  },
  {
   "cell_type": "markdown",
   "id": "cd50b1bb",
   "metadata": {},
   "source": [
    "### Anagram Problem"
   ]
  },
  {
   "cell_type": "code",
   "execution_count": 27,
   "id": "7ce0f2b0",
   "metadata": {},
   "outputs": [],
   "source": [
    "def check_anagram(str1, str2):\n",
    "    str1 = sorted(str1)\n",
    "    str2 = sorted(str2)\n",
    "    for i in range(len(str1)):\n",
    "        if str1[i]!=str2[i]:\n",
    "            return False\n",
    "    return True"
   ]
  },
  {
   "cell_type": "code",
   "execution_count": 28,
   "id": "3991f3e2",
   "metadata": {},
   "outputs": [
    {
     "data": {
      "text/plain": [
       "True"
      ]
     },
     "execution_count": 28,
     "metadata": {},
     "output_type": "execute_result"
    }
   ],
   "source": [
    "check_anagram('fluster', 'restful')"
   ]
  },
  {
   "cell_type": "code",
   "execution_count": 31,
   "id": "83872621",
   "metadata": {},
   "outputs": [
    {
     "data": {
      "text/plain": [
       "4"
      ]
     },
     "execution_count": 31,
     "metadata": {},
     "output_type": "execute_result"
    }
   ],
   "source": []
  },
  {
   "cell_type": "code",
   "execution_count": 29,
   "id": "801d3dd7",
   "metadata": {},
   "outputs": [
    {
     "data": {
      "text/plain": [
       "False"
      ]
     },
     "execution_count": 29,
     "metadata": {},
     "output_type": "execute_result"
    }
   ],
   "source": [
    "check_anagram('flustetr', 'restful')"
   ]
  },
  {
   "cell_type": "markdown",
   "id": "d52a3876",
   "metadata": {},
   "source": [
    "### Duplicates in Array Problem"
   ]
  },
  {
   "cell_type": "markdown",
   "id": "5448dd7e",
   "metadata": {},
   "source": [
    "All elements in array are positive and max elem is less than arr len"
   ]
  },
  {
   "cell_type": "code",
   "execution_count": 35,
   "id": "e5240fda",
   "metadata": {},
   "outputs": [],
   "source": [
    "def check_dups(arr):\n",
    "    for elm in arr:\n",
    "        if arr[abs(elm)]<0:\n",
    "            print(f\"Duplicate elm: {abs(elm)}\")\n",
    "        else:\n",
    "            arr[abs(elm)] = - arr[abs(elm)]"
   ]
  },
  {
   "cell_type": "code",
   "execution_count": 36,
   "id": "01fa90dc",
   "metadata": {},
   "outputs": [
    {
     "name": "stdout",
     "output_type": "stream",
     "text": [
      "Duplicate elm: 5\n",
      "Duplicate elm: 6\n",
      "Duplicate elm: 2\n"
     ]
    }
   ],
   "source": [
    "check_dups([1,2,5,6,5,6,2])"
   ]
  },
  {
   "cell_type": "code",
   "execution_count": null,
   "id": "ae798e00",
   "metadata": {},
   "outputs": [],
   "source": []
  }
 ],
 "metadata": {
  "kernelspec": {
   "display_name": "Python 3",
   "language": "python",
   "name": "python3"
  },
  "language_info": {
   "codemirror_mode": {
    "name": "ipython",
    "version": 3
   },
   "file_extension": ".py",
   "mimetype": "text/x-python",
   "name": "python",
   "nbconvert_exporter": "python",
   "pygments_lexer": "ipython3",
   "version": "3.8.8"
  }
 },
 "nbformat": 4,
 "nbformat_minor": 5
}
