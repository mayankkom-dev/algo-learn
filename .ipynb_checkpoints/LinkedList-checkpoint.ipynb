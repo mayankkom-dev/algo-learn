{
 "cells": [
  {
   "cell_type": "markdown",
   "id": "6570b82b",
   "metadata": {},
   "source": [
    "Contains implementation for Singly Linked List\n",
    "- insert at beginning\n",
    "- insert at end\n",
    "- remove element\n",
    "- traverse\n",
    "- get the middle element\n",
    "- reverese the linked list\n",
    "And Doubly LinkList"
   ]
  },
  {
   "cell_type": "code",
   "execution_count": 3,
   "id": "cebb56f2",
   "metadata": {},
   "outputs": [],
   "source": [
    "class Node:\n",
    "    def __init__(self, data):\n",
    "        self.data = data\n",
    "        self.next = None"
   ]
  },
  {
   "cell_type": "code",
   "execution_count": 14,
   "id": "addaf615",
   "metadata": {},
   "outputs": [],
   "source": [
    "class LinkedList:\n",
    "    \n",
    "    def __init__(self):\n",
    "        self.head = None\n",
    "        self.num_of_nodes = 0\n",
    "        \n",
    "    def insert_start(self, data):\n",
    "        new_node = Node(data)\n",
    "        self.num_of_nodes+=1\n",
    "        if not self.head:\n",
    "            self.head = new_node\n",
    "        else:\n",
    "            new_node.next = self.head\n",
    "            self.head = new_node\n",
    "            \n",
    "    def traverse(self):\n",
    "        current_node = self.head\n",
    "        while current_node:\n",
    "            print(current_node.data)\n",
    "            current_node  = current_node.next\n",
    "    \n",
    "    def num_of_nodes(self):\n",
    "        return self.num_of_nodes\n",
    "    \n",
    "    def insert_end(self, data):\n",
    "        \n",
    "        new_node = Node(data)\n",
    "        self.num_of_nodes += 1\n",
    "        current_node = self.head\n",
    "        \n",
    "        if not self.head:\n",
    "            self.head = new_node\n",
    "        else:\n",
    "            while current_node.next:\n",
    "                current_node = current_node.next\n",
    "            current_node.next = new_node\n",
    "    \n",
    "    def delete_elm(self, data):\n",
    "        if not self.head:\n",
    "            return\n",
    "        prev_node, current_node = None, self.head\n",
    "        while current_node and current_node.data != data:\n",
    "            prev_node = current_node\n",
    "            current_node = current_node.next\n",
    "        if not current_node:\n",
    "            return\n",
    "        if not prev_node:\n",
    "            self.head = current_node.next\n",
    "        else:\n",
    "            prev_node.next = current_node.next\n",
    "            \n",
    "            \n",
    "            "
   ]
  },
  {
   "cell_type": "code",
   "execution_count": 16,
   "id": "c51e73db",
   "metadata": {},
   "outputs": [
    {
     "name": "stdout",
     "output_type": "stream",
     "text": [
      "7\n",
      "78\n",
      "6\n",
      "69\n",
      "##########\n",
      "7\n",
      "78\n",
      "6\n",
      "##########\n",
      "7\n",
      "6\n",
      "##########\n",
      "6\n",
      "##########\n",
      "##########\n",
      "##########\n"
     ]
    }
   ],
   "source": [
    "l = LinkedList()\n",
    "l.insert_start(6)\n",
    "l.insert_start(78)\n",
    "l.insert_start(7)\n",
    "l.insert_end(69)\n",
    "l.traverse()\n",
    "print(\"#\"*10)\n",
    "l.delete_elm(69)\n",
    "l.traverse()\n",
    "print(\"#\"*10)\n",
    "l.delete_elm(78)\n",
    "l.traverse()\n",
    "print(\"#\"*10)\n",
    "l.delete_elm(7)\n",
    "l.traverse()\n",
    "print(\"#\"*10)\n",
    "l.delete_elm(6)\n",
    "l.traverse()\n",
    "print(\"#\"*10)\n",
    "l.delete_elm(69)\n",
    "l.traverse()\n",
    "print(\"#\"*10)\n"
   ]
  },
  {
   "cell_type": "markdown",
   "id": "8670aca5",
   "metadata": {},
   "source": [
    "### Inplace LinkList Reverse and Middle element "
   ]
  },
  {
   "cell_type": "code",
   "execution_count": 33,
   "id": "c78fa908",
   "metadata": {},
   "outputs": [],
   "source": [
    "class LinkedList:\n",
    "    \n",
    "    def __init__(self):\n",
    "        self.head = None\n",
    "        self.num_of_nodes = 0\n",
    "        \n",
    "    def insert_start(self, data):\n",
    "        new_node = Node(data)\n",
    "        self.num_of_nodes+=1\n",
    "        if not self.head:\n",
    "            self.head = new_node\n",
    "        else:\n",
    "            new_node.next = self.head\n",
    "            self.head = new_node\n",
    "            \n",
    "    def traverse(self):\n",
    "        current_node = self.head\n",
    "        while current_node:\n",
    "            print(current_node.data)\n",
    "            current_node  = current_node.next\n",
    "    \n",
    "    def num_of_nodes(self):\n",
    "        return self.num_of_nodes\n",
    "    \n",
    "    def insert_end(self, data):\n",
    "        \n",
    "        new_node = Node(data)\n",
    "        self.num_of_nodes += 1\n",
    "        current_node = self.head\n",
    "        \n",
    "        if not self.head:\n",
    "            self.head = new_node\n",
    "        else:\n",
    "            while current_node.next:\n",
    "                current_node = current_node.next\n",
    "            current_node.next = new_node\n",
    "    \n",
    "    def delete_elm(self, data):\n",
    "        if not self.head:\n",
    "            return\n",
    "        prev_node, current_node = None, self.head\n",
    "        while current_node and current_node.data != data:\n",
    "            prev_node = current_node\n",
    "            current_node = current_node.next\n",
    "        if not current_node:\n",
    "            return\n",
    "        self.num_of_nodes -= 1\n",
    "        if not prev_node:\n",
    "            self.head = current_node.next\n",
    "        else:\n",
    "            prev_node.next = current_node.next\n",
    "            \n",
    "            \n",
    "    def reverse_list(self):\n",
    "        if not self.head:\n",
    "            return\n",
    "        curr = self.head\n",
    "        prev = None\n",
    "        nextt = None\n",
    "        \n",
    "        while curr:\n",
    "            nextt = curr.next\n",
    "            curr.next = prev\n",
    "            prev = curr\n",
    "            curr = nextt\n",
    "            \n",
    "        self.head = prev\n",
    "    \n",
    "    def middle_elm(self):\n",
    "        if not self.head:\n",
    "            return\n",
    "        slow_p = self.head\n",
    "        fast_p = self.head\n",
    "        while fast_p.next and fast_p.next.next:\n",
    "            slow_p = slow_p.next\n",
    "            fast_p = fast_p.next.next\n",
    "        print(f\"Middle Elm is {slow_p.data}\")\n",
    "        return slow_p.data"
   ]
  },
  {
   "cell_type": "code",
   "execution_count": 34,
   "id": "1106af63",
   "metadata": {},
   "outputs": [
    {
     "data": {
      "text/plain": [
       "[7, 78, 6, 69]"
      ]
     },
     "execution_count": 34,
     "metadata": {},
     "output_type": "execute_result"
    }
   ],
   "source": [
    "[7, 78, 6, 69]"
   ]
  },
  {
   "cell_type": "code",
   "execution_count": 36,
   "id": "ac6d4790",
   "metadata": {},
   "outputs": [
    {
     "name": "stdout",
     "output_type": "stream",
     "text": [
      "Middle Elm is 6\n",
      "Middle Elm is 78\n",
      "Middle Elm is 78\n",
      "Middle Elm is 78\n",
      "7\n",
      "78\n",
      "6\n",
      "69\n",
      "##########\n",
      "Middle Elm is 6\n",
      "##########\n",
      "79\n",
      "69\n",
      "6\n",
      "78\n",
      "7\n"
     ]
    }
   ],
   "source": [
    "l = LinkedList()\n",
    "l.insert_start(6)\n",
    "l.middle_elm()\n",
    "l.insert_start(78)\n",
    "l.middle_elm()\n",
    "l.insert_start(7)\n",
    "l.middle_elm()\n",
    "l.insert_end(69)\n",
    "l.middle_elm()\n",
    "l.traverse()\n",
    "print(\"#\"*10)\n",
    "l.reverse_list()\n",
    "l.insert_start(79)\n",
    "l.middle_elm()\n",
    "print(\"#\"*10)\n",
    "l.traverse()\n",
    "\n"
   ]
  },
  {
   "cell_type": "markdown",
   "id": "d0bb11c6",
   "metadata": {},
   "source": [
    "### Doubly Linked list"
   ]
  },
  {
   "cell_type": "code",
   "execution_count": 37,
   "id": "3399819d",
   "metadata": {},
   "outputs": [],
   "source": [
    "class DNode:\n",
    "    def __init__(self, data):\n",
    "        self.data = data\n",
    "        self.next = None\n",
    "        self.prev = None\n",
    "        \n",
    "class DLinkedList:\n",
    "    def __init__(self):\n",
    "        self.head = None\n",
    "        self.tail = None\n",
    "        self.num_nodes = 0\n",
    "        \n",
    "    def insert_end(self, data):\n",
    "        new_node = DNode(data)\n",
    "        \n",
    "        if not self.head:\n",
    "            self.head = new_node\n",
    "            self.tail = new_node\n",
    "        else:\n",
    "            new_node.prev = self.tail \n",
    "            self.tail.next = new_node\n",
    "            self.tail = new_node\n",
    "    def tranverse(self):\n",
    "        if not self.head:\n",
    "            return\n",
    "        curr = self.head  \n",
    "        while curr:\n",
    "            print(curr.data, sep=\",\")\n",
    "            curr = curr.next\n",
    "            \n",
    "            "
   ]
  },
  {
   "cell_type": "code",
   "execution_count": 40,
   "id": "9c11d2e2",
   "metadata": {},
   "outputs": [],
   "source": [
    "l = DLinkedList()"
   ]
  },
  {
   "cell_type": "code",
   "execution_count": 41,
   "id": "c6761edf",
   "metadata": {},
   "outputs": [],
   "source": [
    "l.insert_end(9)\n",
    "l.insert_end(91)\n",
    "l.insert_end(19)\n",
    "l.insert_end(39)\n",
    "l.insert_end(45)\n",
    "l.insert_end(5)"
   ]
  },
  {
   "cell_type": "code",
   "execution_count": 42,
   "id": "bb6dc7e9",
   "metadata": {},
   "outputs": [
    {
     "name": "stdout",
     "output_type": "stream",
     "text": [
      "9\n",
      "91\n",
      "19\n",
      "39\n",
      "45\n",
      "5\n"
     ]
    }
   ],
   "source": [
    "l.tranverse()"
   ]
  },
  {
   "cell_type": "code",
   "execution_count": null,
   "id": "18ff47b3",
   "metadata": {},
   "outputs": [],
   "source": []
  }
 ],
 "metadata": {
  "kernelspec": {
   "display_name": "Python 3",
   "language": "python",
   "name": "python3"
  },
  "language_info": {
   "codemirror_mode": {
    "name": "ipython",
    "version": 3
   },
   "file_extension": ".py",
   "mimetype": "text/x-python",
   "name": "python",
   "nbconvert_exporter": "python",
   "pygments_lexer": "ipython3",
   "version": "3.8.8"
  }
 },
 "nbformat": 4,
 "nbformat_minor": 5
}
